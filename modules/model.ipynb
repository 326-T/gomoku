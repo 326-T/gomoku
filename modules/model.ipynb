{
 "cells": [
  {
   "cell_type": "code",
   "execution_count": 1,
   "id": "889d1cb3",
   "metadata": {},
   "outputs": [],
   "source": [
    "import numpy as np\n",
    "import torch\n",
    "from torch import nn, optim\n",
    "from torch.nn import functional as F\n",
    "from torch.utils.data import Dataset\n",
    "from torchvision import transforms"
   ]
  },
  {
   "cell_type": "code",
   "execution_count": 2,
   "id": "65ff1dd0",
   "metadata": {},
   "outputs": [],
   "source": [
    "class FCNN(nn.Module):\n",
    "    \n",
    "    def __init__(self, input_shape, output_shape, hidden_shape=[30, 30]):\n",
    "        super(FCNN, self).__init__()\n",
    "        \n",
    "        self.input_shape = input_shape\n",
    "        self.output_shape = output_shape\n",
    "        \n",
    "        self.model = nn.Sequential()\n",
    "        if len(hidden_shape) == 0:\n",
    "            self.model.add_module('fc1', nn.Linear(input_shape, output_shape))\n",
    "            self.model.add_module('tanh1', nn.Tanh())\n",
    "            \n",
    "        else:\n",
    "            self.model.add_module('fc1', nn.Linear(input_shape, hidden_shape[0]))\n",
    "            self.model.add_module('tanh1', nn.Tanh())\n",
    "            for i in range(1, len(hidden_shape)):\n",
    "                self.model.add_module('fc'+str(i+1), nn.Linear(hidden_shape[i-1], hidden_shape[i]))\n",
    "                self.model.add_module('tanh'+str(i+1), nn.Tanh())\n",
    "            self.model.add_module('fc'+str(i+1), nn.Linear(hidden_shape[i], output_shape))\n",
    "            self.model.add_module('tanh'+str(i+1), nn.Tanh())\n",
    "        \n",
    "    def forward(self, x):\n",
    "        x = x.view(-1, self.input_shape)\n",
    "        x = self.model(x)\n",
    "        return x\n",
    "        \n",
    "    def loss(self, predicted, truth):\n",
    "        return F.mse_loss(predicted, truth)"
   ]
  },
  {
   "cell_type": "code",
   "execution_count": 3,
   "id": "a7022598",
   "metadata": {},
   "outputs": [],
   "source": [
    "class FCNN_controller():\n",
    "    \n",
    "    def __init__(self, model, device = \"cpu\"):\n",
    "        self.device = torch.device(device)\n",
    "        self.model = model.to(self.device)\n",
    "        self.optimizer = optim.Adam(self.model.parameters(), lr=1e-3)\n",
    "        \n",
    "    def train(self, x, y, batch_size, max_epoch):\n",
    "        self.model.train()\n",
    "        train_loss = 0\n",
    "        for epoch in range(max_epoch):\n",
    "            self.data_loader = torch.utils.data.DataLoader(GomokuDataset(x, y), batch_size = batch_size, shuffle=True)\n",
    "            for x, y in (self.data_loader):\n",
    "                x, y = x.to(torch.float).to(self.device), y.to(torch.float).to(self.device)\n",
    "                self.optimizer.zero_grad()\n",
    "\n",
    "                predicted = self.model(x)\n",
    "                loss = self.model.loss(predicted, y)\n",
    "                loss.backward()\n",
    "                train_loss += loss.item()\n",
    "                self.optimizer.step()\n",
    "        \n",
    "        return train_loss / (x.shape[0] * max_epoch)\n",
    "        \n",
    "    def predict(self, x):\n",
    "        self.model.eval()\n",
    "        x = torch.from_numpy(x.astype(np.float32)).to(self.device)\n",
    "        return self.model(x)        \n",
    "        \n",
    "    def save_weight(self, path='data/model_fcnn'):\n",
    "        torch.save(self.model.state_dict(), path)\n",
    "        \n",
    "    def load_weight(self, path='data/model_fcnn'):\n",
    "        self.model.load_state_dict(torch.load(path))"
   ]
  },
  {
   "cell_type": "code",
   "execution_count": 4,
   "id": "aff3faba",
   "metadata": {},
   "outputs": [],
   "source": [
    "class GomokuDataset(Dataset):\n",
    "    \n",
    "    def __init__(self, x, y, transform = None):\n",
    "        self.x = x\n",
    "        self.y = y\n",
    "        self.transform = transform\n",
    "        \n",
    "        \n",
    "    def __len__(self):\n",
    "        return self.x.shape[0]\n",
    "    \n",
    "    def __getitem__(self, idx):\n",
    "        return self.x[idx], self.y[idx]"
   ]
  }
 ],
 "metadata": {
  "kernelspec": {
   "display_name": "Python 3 (ipykernel)",
   "language": "python",
   "name": "python3"
  },
  "language_info": {
   "codemirror_mode": {
    "name": "ipython",
    "version": 3
   },
   "file_extension": ".py",
   "mimetype": "text/x-python",
   "name": "python",
   "nbconvert_exporter": "python",
   "pygments_lexer": "ipython3",
   "version": "3.8.5"
  }
 },
 "nbformat": 4,
 "nbformat_minor": 5
}
