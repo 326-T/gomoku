{
 "cells": [
  {
   "cell_type": "code",
   "execution_count": 1,
   "id": "62cf2993",
   "metadata": {},
   "outputs": [],
   "source": [
    "from flask import Flask,render_template,request\n",
    "import numpy as np"
   ]
  },
  {
   "cell_type": "code",
   "execution_count": 2,
   "id": "1a92a932",
   "metadata": {},
   "outputs": [],
   "source": [
    "from modules.model import FCNN, FCNN_controller\n",
    "from modules.env import Gomoku, Observer\n",
    "from modules.agent import FNAgent"
   ]
  },
  {
   "cell_type": "code",
   "execution_count": 3,
   "id": "11b45865",
   "metadata": {},
   "outputs": [],
   "source": [
    "class Refree:\n",
    "    \n",
    "    def __init__(self):\n",
    "        self.env = None\n",
    "        self.agent = None\n",
    "        self.player_ids = None\n",
    "        self.is_player_turn = False\n",
    "        self.state = None\n",
    "        self.options = None\n",
    "        self.done = False\n",
    "        self.result = \"対戦中\"\n",
    "    \n",
    "    @classmethod\n",
    "    def load(cls, env, agent):\n",
    "        refree = cls()\n",
    "        refree.env = env\n",
    "        refree.agent = agent\n",
    "        return refree\n",
    "    \n",
    "    def reset(self):\n",
    "        self.done = False\n",
    "        self.result = \"対戦中\"\n",
    "        self.state, self.options = self.env.reset()\n",
    "        if np.random.random() < 0.5:\n",
    "            self.player_ids = {\"player\" : 1, \"agent\" : -1}\n",
    "            self.is_player_turn = True\n",
    "        else:\n",
    "            self.player_ids = {\"player\" : -1, \"agent\" : 1}\n",
    "            self.is_player_turn = False\n",
    "            self.agent_turn()\n",
    "            \n",
    "    def agent_turn(self):\n",
    "        if self.done or self.is_player_turn:\n",
    "            self.state, reward, self.done, self.options = self.env.step(self.player_ids[\"agent\"], None)\n",
    "            return\n",
    "        action = self.agent.policy(self.state, self.options)\n",
    "        self.state, reward, self.done, self.options = self.env.step(self.player_ids[\"agent\"], action)\n",
    "        if len(self.options) != 0:\n",
    "            self.is_player_turn = True\n",
    "        if reward == 1:\n",
    "            self.result = \"負け\"\n",
    "        elif reward == -0.3:\n",
    "            self.result = \"引き分け\"\n",
    "        \n",
    "    def player_turn(self, action):\n",
    "        if self.done or not self.is_player_turn:\n",
    "            self.state, reward, self.done, self.options = self.env.step(self.player_ids[\"player\"], None)\n",
    "            return\n",
    "        self.state, reward, self.done, self.options = self.env.step(self.player_ids[\"player\"], action)\n",
    "        if len(self.options) != 0:\n",
    "            self.is_player_turn = False\n",
    "        if reward == 1:\n",
    "            self.result = \"勝ち\"\n",
    "        elif reward == -0.3:\n",
    "            self.result = \"引き分け\""
   ]
  },
  {
   "cell_type": "code",
   "execution_count": 4,
   "id": "132826b8",
   "metadata": {},
   "outputs": [],
   "source": [
    "def init_gomoku_refree():\n",
    "    env = Observer.load(Gomoku(3))\n",
    "    fcnn = FCNN(env.dim_state+2, 1)\n",
    "    model = FCNN_controller(fcnn)\n",
    "    model.load_weight(\"data/gomoku/dnn/10_model_fcnn\")\n",
    "    agent = DNQAgent.load(model, None, 0)\n",
    "    \n",
    "    refree = Refree.load(env, agent)\n",
    "    refree.reset()\n",
    "    \n",
    "    return refree"
   ]
  },
  {
   "cell_type": "code",
   "execution_count": null,
   "id": "0bf3ed64",
   "metadata": {},
   "outputs": [],
   "source": [
    "def init_othello_refree():\n",
    "    env = OthelloObserver.load(Othello())\n",
    "    agent = DNQAgent(0)\n",
    "    \n",
    "    refree = Refree.load(env, agent)\n",
    "    refree.reset()\n",
    "    \n",
    "    return refree"
   ]
  },
  {
   "cell_type": "code",
   "execution_count": 5,
   "id": "d92d4b23",
   "metadata": {},
   "outputs": [],
   "source": [
    "gomoku_refree = init_gomoku_refree()\n",
    "othello_refree = init_othello_refree()"
   ]
  },
  {
   "cell_type": "code",
   "execution_count": 6,
   "id": "e9b596a8",
   "metadata": {},
   "outputs": [],
   "source": [
    "app = Flask(__name__)\n",
    "\n",
    "@app.route(\"/\", methods=[\"GET\"])\n",
    "def root_get():\n",
    "    gomoku_refree.reset()\n",
    "    return render_template(\"index.html\", state=gomoku_refree.env.state().reshape(3, 3).tolist(), options=gomoku_refree.options.tolist(), \n",
    "    order=gomoku_refree.player_ids[\"player\"], result=gomoku_refree.result)\n",
    "\n",
    "@app.route(\"/\", methods=[\"POST\"])\n",
    "def root_post():\n",
    "    action = int(request.form.get(\"action\"))\n",
    "    gomoku_refree.player_turn(action)\n",
    "    gomoku_refree.agent_turn()\n",
    "    return render_template(\"index.html\", state=gomoku_refree.env.state().reshape(3, 3).tolist(), options=gomoku_refree.options.tolist(), \n",
    "    order=gomoku_refree.player_ids[\"player\"], result=gomoku_refree.result)\n",
    "    \n",
    "\n",
    "@app.route(\"/othello\", methods=[\"GET\"])\n",
    "def othello_get():\n",
    "    othello_refree.reset()\n",
    "    return render_template(\"othello.html\", state=othello_refree.env.state().reshape(8, 8).tolist(), options=othello_refree.options.tolist(), \n",
    "    order=othello_refree.player_ids[\"player\"], result=othello_refree.result)\n",
    "\n",
    "@app.route(\"/othello\", methods=[\"POST\"])\n",
    "def othello_post():\n",
    "    action = int(request.form.get(\"action\"))\n",
    "    othello_refree.player_turn(action)\n",
    "    while not othello_refree.is_player_turn:\n",
    "        othello_refree.agent_turn()\n",
    "    return render_template(\"othello.html\", state=othello_refree.env.state().reshape(8, 8).tolist(), options=othello_refree.options.tolist(), \n",
    "    order=othello_refree.player_ids[\"player\"], result=othello_refree.result)"
   ]
  },
  {
   "cell_type": "code",
   "execution_count": null,
   "id": "14e951f7",
   "metadata": {},
   "outputs": [
    {
     "name": "stdout",
     "output_type": "stream",
     "text": [
      " * Serving Flask app '__main__' (lazy loading)\n",
      " * Environment: production\n",
      "\u001b[31m   WARNING: This is a development server. Do not use it in a production deployment.\u001b[0m\n",
      "\u001b[2m   Use a production WSGI server instead.\u001b[0m\n",
      " * Debug mode: off\n"
     ]
    },
    {
     "name": "stderr",
     "output_type": "stream",
     "text": [
      " * Running on http://127.0.0.1:5000/ (Press CTRL+C to quit)\n",
      "127.0.0.1 - - [31/Dec/2021 17:44:39] \"GET / HTTP/1.1\" 200 -\n",
      "127.0.0.1 - - [31/Dec/2021 17:44:39] \"GET /static/css/style.css HTTP/1.1\" 304 -\n",
      "127.0.0.1 - - [31/Dec/2021 17:44:40] \"POST / HTTP/1.1\" 200 -\n",
      "127.0.0.1 - - [31/Dec/2021 17:44:40] \"GET /static/css/style.css HTTP/1.1\" 304 -\n",
      "127.0.0.1 - - [31/Dec/2021 17:44:42] \"POST / HTTP/1.1\" 200 -\n",
      "127.0.0.1 - - [31/Dec/2021 17:44:42] \"GET /static/css/style.css HTTP/1.1\" 304 -\n",
      "127.0.0.1 - - [31/Dec/2021 17:44:43] \"POST / HTTP/1.1\" 200 -\n",
      "127.0.0.1 - - [31/Dec/2021 17:44:43] \"GET /static/css/style.css HTTP/1.1\" 304 -\n",
      "127.0.0.1 - - [31/Dec/2021 17:44:48] \"POST / HTTP/1.1\" 200 -\n",
      "127.0.0.1 - - [31/Dec/2021 17:44:48] \"GET /static/css/style.css HTTP/1.1\" 304 -\n",
      "127.0.0.1 - - [31/Dec/2021 17:44:50] \"POST / HTTP/1.1\" 200 -\n",
      "127.0.0.1 - - [31/Dec/2021 17:44:50] \"GET /static/css/style.css HTTP/1.1\" 304 -\n",
      "127.0.0.1 - - [31/Dec/2021 17:44:51] \"GET / HTTP/1.1\" 200 -\n",
      "127.0.0.1 - - [31/Dec/2021 17:44:51] \"GET /static/css/style.css HTTP/1.1\" 304 -\n",
      "127.0.0.1 - - [31/Dec/2021 17:44:54] \"POST / HTTP/1.1\" 200 -\n",
      "127.0.0.1 - - [31/Dec/2021 17:44:54] \"GET /static/css/style.css HTTP/1.1\" 304 -\n",
      "127.0.0.1 - - [31/Dec/2021 17:44:56] \"POST / HTTP/1.1\" 200 -\n",
      "127.0.0.1 - - [31/Dec/2021 17:44:56] \"GET /static/css/style.css HTTP/1.1\" 304 -\n",
      "127.0.0.1 - - [31/Dec/2021 17:45:00] \"POST / HTTP/1.1\" 200 -\n",
      "127.0.0.1 - - [31/Dec/2021 17:45:01] \"GET /static/css/style.css HTTP/1.1\" 304 -\n",
      "127.0.0.1 - - [31/Dec/2021 17:45:02] \"POST / HTTP/1.1\" 200 -\n",
      "127.0.0.1 - - [31/Dec/2021 17:45:02] \"GET /static/css/style.css HTTP/1.1\" 304 -\n",
      "127.0.0.1 - - [31/Dec/2021 17:45:04] \"GET / HTTP/1.1\" 200 -\n",
      "127.0.0.1 - - [31/Dec/2021 17:45:04] \"GET /static/css/style.css HTTP/1.1\" 304 -\n"
     ]
    }
   ],
   "source": [
    "if __name__ == \"__main__\":\n",
    "    app.run()"
   ]
  },
  {
   "cell_type": "code",
   "execution_count": null,
   "id": "45a6209f",
   "metadata": {},
   "outputs": [],
   "source": []
  }
 ],
 "metadata": {
  "kernelspec": {
   "display_name": "Python 3 (ipykernel)",
   "language": "python",
   "name": "python3"
  },
  "language_info": {
   "codemirror_mode": {
    "name": "ipython",
    "version": 3
   },
   "file_extension": ".py",
   "mimetype": "text/x-python",
   "name": "python",
   "nbconvert_exporter": "python",
   "pygments_lexer": "ipython3",
   "version": "3.8.5"
  }
 },
 "nbformat": 4,
 "nbformat_minor": 5
}
